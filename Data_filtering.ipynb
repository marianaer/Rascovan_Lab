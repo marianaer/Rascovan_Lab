{
 "cells": [
  {
   "cell_type": "markdown",
   "id": "b91595c7",
   "metadata": {},
   "source": [
    "# Data filtering of PLINK files"
   ]
  },
  {
   "cell_type": "markdown",
   "id": "76202e9e",
   "metadata": {},
   "source": [
    "PLINK es un software que permite analizar datos genotípicos/Fenotípicos. Utilizado ampliamente para análisis a nivel de genoma completo."
   ]
  },
  {
   "cell_type": "markdown",
   "id": "e6c869c0",
   "metadata": {},
   "source": [
    "Plink es muy útil para filtrar datos genómicos a nivel de variantes (SNPs) o a nivel de individuos. \n",
    "Tres archivos: **.bed**, **.bim** y **.fam** (ver manual)"
   ]
  },
  {
   "cell_type": "markdown",
   "id": "8d76540c",
   "metadata": {},
   "source": [
    "### Antes de cualquier análisis, debemos filtrar los datos  para asegurarnos de que nuestros resultados sean válidos"
   ]
  },
  {
   "cell_type": "markdown",
   "id": "23614132",
   "metadata": {},
   "source": [
    "/pasteur/zeus/projets/p02/Hotpaleo/pierre/Projects/2023-10-03_NemeGilPeraltaAbbona"
   ]
  },
  {
   "cell_type": "markdown",
   "id": "d158f527",
   "metadata": {},
   "source": [
    "#### Quedarnos con individuos de Mendoza"
   ]
  },
  {
   "cell_type": "markdown",
   "id": "402a616d",
   "metadata": {},
   "source": [
    "Grep busca texto en archivos de texto.\n",
    "\">\" redirige el output a un nuevo archivo\n",
    "cut permite quedarse con columnas especîficas de una tabla\n",
    "sort -u se queda con valores unicos\n"
   ]
  },
  {
   "cell_type": "raw",
   "id": "08348b83",
   "metadata": {},
   "source": [
    "\n",
    "grep 'Mendoza' ManuallyAnnotated_SummarySTATs.txt > Mendoza_ManuallyAnnotated_SummarySTATs.txt\n",
    "\n",
    "cut -f4 Mendoza_ManuallyAnnotated_SummarySTATs.txt | sort -u >individuals_SouthMendoza.txt"
   ]
  },
  {
   "cell_type": "markdown",
   "id": "e318d005",
   "metadata": {},
   "source": [
    "#### 1. Remove individuals with very low coverage (<0.01x)"
   ]
  },
  {
   "cell_type": "raw",
   "id": "65b55f63",
   "metadata": {},
   "source": [
    "AR0325\n",
    "AR0345\n",
    "AR0546\n",
    "AR0564\n",
    "AR0681\n",
    "AR0696"
   ]
  },
  {
   "cell_type": "markdown",
   "id": "33d7dd35",
   "metadata": {},
   "source": [
    "#### 2. Remover parientes en primer grado\n",
    "\n",
    "Muchos análisis de genética de poblaciones asumen que los individuos son muestreados de forma aleatoria en la población, por lo que debemos remover un individuo para todos los pares de parientes en primer grado (dejar por ejemplo a aquel individuo con la mejor profundidad de cobertura de secuenciación.\n",
    "\n",
    "Check Pierre's table:\n",
    "\n",
    "son 8 estimaciones (2 metodos 4 conjuntos de snps). \n",
    "\n",
    "Priorizar Kin_1240K o Kin_SG.TVs"
   ]
  },
  {
   "cell_type": "markdown",
   "id": "133e3058",
   "metadata": {},
   "source": [
    "Which ones should we keep? Which ones have the highest coverage?\n",
    "\n",
    "(We will also filter by coverage later, regardless of kinship)\n"
   ]
  },
  {
   "cell_type": "raw",
   "id": "8b71db4a",
   "metadata": {},
   "source": [
    "grep -f individuals_SouthMendoza.txt Summarize_Kinship.tsv |grep 'First Degree'"
   ]
  },
  {
   "cell_type": "markdown",
   "id": "5df67cef",
   "metadata": {},
   "source": [
    "We will remove the individuals: **AR0233**\n",
    "\n",
    "(Recomiendo ir haciendo un archivo que sea una lista a la que vamos agregando los individuos que vamos a descartar y por qué)"
   ]
  },
  {
   "cell_type": "raw",
   "id": "35b70950",
   "metadata": {},
   "source": [
    "nano remove_inds_SouthMendoza.txt"
   ]
  },
  {
   "cell_type": "markdown",
   "id": "36bcda9f",
   "metadata": {},
   "source": [
    "Pegar esto:"
   ]
  },
  {
   "cell_type": "raw",
   "id": "b381c965",
   "metadata": {},
   "source": [
    "AR0325\n",
    "AR0345\n",
    "AR0546\n",
    "AR0564\n",
    "AR0681\n",
    "AR0696\n",
    "AR0233"
   ]
  },
  {
   "cell_type": "markdown",
   "id": "26a9cb6f",
   "metadata": {},
   "source": [
    "control x y luego y"
   ]
  },
  {
   "cell_type": "markdown",
   "id": "768b9fdd",
   "metadata": {},
   "source": [
    "## Remover con PLINK"
   ]
  },
  {
   "cell_type": "markdown",
   "id": "7f5d9bf1",
   "metadata": {},
   "source": [
    "Para asignar recursos en el cluster (sin encolar):"
   ]
  },
  {
   "cell_type": "raw",
   "id": "4a99083a",
   "metadata": {},
   "source": [
    "srun -p common --qos normal --cpus-per-task=10 --pty bash"
   ]
  },
  {
   "cell_type": "markdown",
   "id": "daa1d515",
   "metadata": {},
   "source": [
    "Cargar módulo Eigensoft (Para Plink y otros softwares de genética de poblaciones):"
   ]
  },
  {
   "cell_type": "raw",
   "id": "0a4e044f",
   "metadata": {},
   "source": [
    "module load EIGENSOFT/7.2.1"
   ]
  },
  {
   "cell_type": "markdown",
   "id": "838e2b62",
   "metadata": {},
   "source": [
    "**bfile**: Cargar un set de archivos bed, fam y bim.\n",
    "\n",
    "\n",
    "**remove**: remueve individuos especificados en un erchivo    "
   ]
  },
  {
   "cell_type": "markdown",
   "id": "a47afd70",
   "metadata": {},
   "source": [
    "Plink necesita un archivo con el family ID en la primera columna y el ID individual en la segunda columna separados por espacio o tabulador. Una forma de crear este archivo a partir de la lista que ya tenemos es:"
   ]
  },
  {
   "cell_type": "raw",
   "id": "a79a2889",
   "metadata": {},
   "source": [
    "paste remove_inds_SouthMendoza.txt remove_inds_SouthMendoza.txt > remove_inds_SouthMendoza_table.txt"
   ]
  },
  {
   "cell_type": "markdown",
   "id": "65aa969c",
   "metadata": {},
   "source": [
    "Correr plink"
   ]
  },
  {
   "cell_type": "raw",
   "id": "d49b0197",
   "metadata": {},
   "source": [
    "plink2 --bfile /pasteur/zeus/projets/p02/Hotpaleo/pierre/Projects/2023-10-03_NemeGilPeraltaAbbona/SouthMendoza/Nuclear/Plink/SouthMendoza.WithRefs.1240K --remove remove_inds_SouthMendoza_table.txt --make-bed --out SouthMendoza.WithRefs.1240K_filtered"
   ]
  },
  {
   "cell_type": "markdown",
   "id": "eda204b1",
   "metadata": {},
   "source": [
    "#### 3. Filter variants by MAF and LD"
   ]
  },
  {
   "cell_type": "markdown",
   "id": "d1bf7962",
   "metadata": {},
   "source": [
    "**Population Structure Analysis**: PCA is often used to uncover patterns of population structure in genetic data.  When conducting PCA, it's important to focus on informative genetic variants that can distinguish between populations. Low-frequency variants with very low MAF may not contribute much to population differentiation and may introduce noise into the analysis.\n",
    "\n",
    "**Reducing Noise:** Filtering out SNPs with extremely low MAF can help reduce noise in the PCA results. Rare variants may be subject to greater sampling variation, and including them could potentially obscure the underlying population structure.\n",
    "\n",
    "**Computational Efficiency:** Including a large number of rare variants with low MAF can make the PCA analysis computationally intensive and slow. By filtering out these variants, you can speed up the analysis while retaining the most informative markers.\n",
    "\n",
    "\n",
    "**Quality Control:** As in other genetic analyses, low MAF can sometimes be associated with genotyping errors or data quality issues. Removing SNPs with very low MAF can help improve data quality in population genetics studies."
   ]
  },
  {
   "cell_type": "markdown",
   "id": "1da51ba7",
   "metadata": {},
   "source": [
    "Usaremos el panel **SouthMendoza.WithRefs.1240K_filtered**\n",
    "\n",
    "\n",
    "**--maf**: remueve SNPs con frecuencia alelica menor al 3%\n",
    "\n",
    "\n",
    "**--indep-pairwise**: remueve SNPs con r2 (ligamiento) mayor a 0.5\n",
    "\n",
    "\n",
    "Este comando remueve las variantes con freq < 3%. Además, genera dos listas: SouthMendoza.WithRefs.1240K_filtered_maf3pct.prune.in\n",
    "and SouthMendoza.WithRefs.1240K_filtered_maf3pct.prune.out (variantes a remover)."
   ]
  },
  {
   "cell_type": "raw",
   "id": "970053e0",
   "metadata": {},
   "source": [
    "plink2 --bfile SouthMendoza.WithRefs.1240K_filtered --maf 0.03 --indep-pairwise 50 5 0.5 --make-bed --out SouthMendoza.WithRefs.1240K_filtered_maf3pct"
   ]
  },
  {
   "cell_type": "markdown",
   "id": "1fc707fa",
   "metadata": {},
   "source": [
    "Remover SNPs ligados:"
   ]
  },
  {
   "cell_type": "raw",
   "id": "30686f3a",
   "metadata": {},
   "source": [
    "plink2 --bfile SouthMendoza.WithRefs.1240K_filtered_maf3pct --exclude SouthMendoza.WithRefs.1240K_filtered_maf3pct.prune.out  --make-bed --out SouthMendoza.WithRefs.1240K_filtered_maf3pct_pruned"
   ]
  }
 ],
 "metadata": {
  "kernelspec": {
   "display_name": "Python 3 (ipykernel)",
   "language": "python",
   "name": "python3"
  },
  "language_info": {
   "codemirror_mode": {
    "name": "ipython",
    "version": 3
   },
   "file_extension": ".py",
   "mimetype": "text/x-python",
   "name": "python",
   "nbconvert_exporter": "python",
   "pygments_lexer": "ipython3",
   "version": "3.10.12"
  }
 },
 "nbformat": 4,
 "nbformat_minor": 5
}
